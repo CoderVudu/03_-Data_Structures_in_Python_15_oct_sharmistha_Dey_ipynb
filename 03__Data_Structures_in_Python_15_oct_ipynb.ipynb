{
  "nbformat": 4,
  "nbformat_minor": 0,
  "metadata": {
    "colab": {
      "provenance": [],
      "authorship_tag": "ABX9TyMLy6momcVnOuWvqdSQHikS",
      "include_colab_link": true
    },
    "kernelspec": {
      "name": "python3",
      "display_name": "Python 3"
    },
    "language_info": {
      "name": "python"
    }
  },
  "cells": [
    {
      "cell_type": "markdown",
      "metadata": {
        "id": "view-in-github",
        "colab_type": "text"
      },
      "source": [
        "<a href=\"https://colab.research.google.com/github/CoderVudu/03_-Data_Structures_in_Python_15_oct_sharmistha_Dey_ipynb/blob/main/03__Data_Structures_in_Python_15_oct_ipynb.ipynb\" target=\"_parent\"><img src=\"https://colab.research.google.com/assets/colab-badge.svg\" alt=\"Open In Colab\"/></a>"
      ]
    },
    {
      "cell_type": "markdown",
      "source": [
        "#Q 1. Write a code to reverse a string."
      ],
      "metadata": {
        "id": "OgaTMcp5KQ0s"
      }
    },
    {
      "cell_type": "code",
      "source": [
        "# Function to reverse a string\n",
        "def reverse_string(s):\n",
        "    return s[::-1]\n",
        "input_string = \"My name is Sharmistha\"\n",
        "reversed_string = reverse_string(input_string)\n",
        "print(\"Reversed String:\", reversed_string)\n"
      ],
      "metadata": {
        "colab": {
          "base_uri": "https://localhost:8080/"
        },
        "id": "IkY35oZaPZGd",
        "outputId": "26687600-2c6b-4786-e6a4-8b15dc271ac3"
      },
      "execution_count": 11,
      "outputs": [
        {
          "output_type": "stream",
          "name": "stdout",
          "text": [
            "Reversed String: ahtsimrahS si eman yM\n"
          ]
        }
      ]
    },
    {
      "cell_type": "markdown",
      "source": [
        "#Q 2. Write a code to count the number of vowels in a string."
      ],
      "metadata": {
        "id": "FbIr5XbJQJcM"
      }
    },
    {
      "cell_type": "code",
      "source": [
        "def count_vowels(string):\n",
        "    vowels = \"aeiouAEIOU\"\n",
        "    # Initialize count\n",
        "    count = 0\n",
        "    # Loop through each character in the string\n",
        "    for char in string:\n",
        "        if char in vowels:\n",
        "            count += 1\n",
        "    return count\n",
        "input_string = \"Hello, how are you?\"\n",
        "vowel_count = count_vowels(input_string)\n",
        "print(f\"Number of vowels: {vowel_count}\")\n"
      ],
      "metadata": {
        "colab": {
          "base_uri": "https://localhost:8080/"
        },
        "id": "h2OSSYhLQM_u",
        "outputId": "31d73828-d368-43e6-9aa9-195fd45cac5e"
      },
      "execution_count": 10,
      "outputs": [
        {
          "output_type": "stream",
          "name": "stdout",
          "text": [
            "Number of vowels: 7\n"
          ]
        }
      ]
    },
    {
      "cell_type": "markdown",
      "source": [
        "# Q 3.Write a code to check if a given string is a palindrome or not."
      ],
      "metadata": {
        "id": "Qrk-mtXLRamX"
      }
    },
    {
      "cell_type": "code",
      "source": [
        "def is_palindrome(s):\n",
        "    # Checking if the string is equal to its reverse\n",
        "    return s == s[::-1]\n",
        "input_string = input(\"Enter a string: \")\n",
        "if is_palindrome(input_string):\n",
        "    print(\"The string is a palindrome.\")\n",
        "else:\n",
        "    print(\"The string is not a palindrome.\")\n"
      ],
      "metadata": {
        "colab": {
          "base_uri": "https://localhost:8080/"
        },
        "id": "1LYsCxjzRlaG",
        "outputId": "cfc5443d-11a2-49d3-e1db-a66cdb6e32f6"
      },
      "execution_count": 16,
      "outputs": [
        {
          "output_type": "stream",
          "name": "stdout",
          "text": [
            "Enter a string: \"Madam\"\n",
            "The string is not a palindrome.\n"
          ]
        }
      ]
    },
    {
      "cell_type": "markdown",
      "source": [
        "#Q 4. Write a code to check if two given strings are anagrams of each other."
      ],
      "metadata": {
        "id": "dq7fTIcQS4CR"
      }
    },
    {
      "cell_type": "code",
      "source": [
        "def are_anagrams(str1, str2):\n",
        "    # Converting both strings to lowercase aalong with sorting the characters\n",
        "    return sorted(str1.lower()) == sorted(str2.lower())\n",
        "string1 = \"gum\"\n",
        "string2 = \"mug\"\n",
        "if are_anagrams(string1, string2):\n",
        "    print(\"The strings are anagrams.\")\n",
        "else:\n",
        "    print(\"The strings are not anagrams.\")"
      ],
      "metadata": {
        "colab": {
          "base_uri": "https://localhost:8080/"
        },
        "id": "HQud2cLjS9gT",
        "outputId": "d51d3670-f103-41a9-ac04-9b43d1c041f1"
      },
      "execution_count": 24,
      "outputs": [
        {
          "output_type": "stream",
          "name": "stdout",
          "text": [
            "The strings are anagrams.\n"
          ]
        }
      ]
    },
    {
      "cell_type": "markdown",
      "source": [
        "#Q 5. Write a code to find all occurrences of a given substring within another string."
      ],
      "metadata": {
        "id": "BMmIw39rUCtD"
      }
    },
    {
      "cell_type": "code",
      "source": [
        "def find_all_occurrences(main_string, substring):\n",
        "    index = 0\n",
        "    occurrences = []\n",
        "    while index < len(main_string):\n",
        "        index = main_string.find(substring, index)\n",
        "        if index == -1:\n",
        "            break\n",
        "        occurrences.append(index)\n",
        "        index += 1  # Moving to the next position to avoid finding the same occurrence\n",
        "    return occurrences\n",
        "main_string = \"This is a test string for testing\"\n",
        "substring = \"test\"\n",
        "print(find_all_occurrences(main_string, substring))\n"
      ],
      "metadata": {
        "colab": {
          "base_uri": "https://localhost:8080/"
        },
        "id": "IFvv60ZyUNzN",
        "outputId": "e02202a9-1ddc-4e36-ce3f-1b8c195333dc"
      },
      "execution_count": 23,
      "outputs": [
        {
          "output_type": "stream",
          "name": "stdout",
          "text": [
            "[10, 26]\n"
          ]
        }
      ]
    },
    {
      "cell_type": "markdown",
      "source": [
        "#Q 6. Write a code to perform basic string compression using the counts of repeated characters."
      ],
      "metadata": {
        "id": "41WROw_FVB5E"
      }
    },
    {
      "cell_type": "code",
      "source": [
        "class StringCompressor:\n",
        "    def __init__(self, s):\n",
        "        self.s = s\n",
        "\n",
        "    def compress(self):\n",
        "        if not self.s:\n",
        "            return \"\"\n",
        "\n",
        "        compressed = []\n",
        "        count = 1\n",
        "\n",
        "        for i in range(1, len(self.s)):\n",
        "            if self.s[i] == self.s[i - 1]:\n",
        "                count += 1\n",
        "            else:\n",
        "                compressed.append(self.s[i - 1] + str(count))\n",
        "                count = 1\n",
        "\n",
        "        # Adding the last repeated character\n",
        "        compressed.append(self.s[-1] + str(count))\n",
        "\n",
        "        compressed_string = ''.join(compressed)\n",
        "        return compressed_string if len(compressed_string) < len(self.s) else self.s\n",
        "compressor = StringCompressor(\"abbccccaa\")\n",
        "compressed_string = compressor.compress()\n",
        "print(compressed_string)\n"
      ],
      "metadata": {
        "colab": {
          "base_uri": "https://localhost:8080/"
        },
        "id": "qygxEHs4VlGE",
        "outputId": "21c34dcb-5a4c-4cd4-d2b1-c6aba2f86557"
      },
      "execution_count": 26,
      "outputs": [
        {
          "output_type": "stream",
          "name": "stdout",
          "text": [
            "a1b2c4a2\n"
          ]
        }
      ]
    },
    {
      "cell_type": "markdown",
      "source": [
        "#Q 7. Write a code to determine if a string has all unique characters."
      ],
      "metadata": {
        "id": "Hx7J0iJJWE0w"
      }
    },
    {
      "cell_type": "code",
      "source": [
        "def has_unique_characters(s):\n",
        "    return len(s) == len(set(s))\n",
        "\n",
        "# For Example\n",
        "input_string = \"abcdef\"\n",
        "print(has_unique_characters(input_string))\n",
        "\n",
        "input_string = \"  PWSKILLS\"\n",
        "print(has_unique_characters(input_string))\n"
      ],
      "metadata": {
        "colab": {
          "base_uri": "https://localhost:8080/"
        },
        "id": "DWGQ1MIdWZ_E",
        "outputId": "8ea55169-3d9a-4271-8073-c1c6719243ce"
      },
      "execution_count": 28,
      "outputs": [
        {
          "output_type": "stream",
          "name": "stdout",
          "text": [
            "True\n",
            "False\n"
          ]
        }
      ]
    },
    {
      "cell_type": "markdown",
      "source": [
        "# Q 8. Write a code to convert a given string to uppercase or lowercase."
      ],
      "metadata": {
        "id": "lgbd5R3bWv6D"
      }
    },
    {
      "cell_type": "code",
      "source": [
        "def convert_case(s, to_upper=True):\n",
        "    return s.upper() if to_upper else s.lower()\n",
        "# For Example\n",
        "input_string = \"I am Studying data analytics course!\"\n",
        "print(convert_case(input_string, to_upper=True))\n",
        "print(convert_case(input_string, to_upper=False))\n"
      ],
      "metadata": {
        "colab": {
          "base_uri": "https://localhost:8080/"
        },
        "id": "RhSc7AZdW7ra",
        "outputId": "68b89601-5fe6-41da-cfcc-7866cec09631"
      },
      "execution_count": 31,
      "outputs": [
        {
          "output_type": "stream",
          "name": "stdout",
          "text": [
            "I AM STUDYING DATA ANALYTICS COURSE!\n",
            "i am studying data analytics course!\n"
          ]
        }
      ]
    },
    {
      "cell_type": "markdown",
      "source": [
        "# Q 9. Write a code to count the number of words in a string."
      ],
      "metadata": {
        "id": "pDb4nK-9XyiC"
      }
    },
    {
      "cell_type": "code",
      "source": [
        "def count_words(s):\n",
        "    return len(s.split())\n",
        "# For Example\n",
        "input_string = \"I am Sharmistha\"\n",
        "print(count_words(input_string))"
      ],
      "metadata": {
        "colab": {
          "base_uri": "https://localhost:8080/"
        },
        "id": "cz_UvneZX55u",
        "outputId": "2bbf2543-8a12-489c-c62a-c41d4cff4b3b"
      },
      "execution_count": 32,
      "outputs": [
        {
          "output_type": "stream",
          "name": "stdout",
          "text": [
            "3\n"
          ]
        }
      ]
    },
    {
      "cell_type": "markdown",
      "source": [
        "# Q 10. Write a code to concatenate two strings without using the operator."
      ],
      "metadata": {
        "id": "MkSoJ9oRYjIy"
      }
    },
    {
      "cell_type": "code",
      "source": [
        "def concatenate_strings(s1, s2):\n",
        "    return ''.join([s1, s2])\n",
        "# For Example\n",
        "string1 = \"PW\"\n",
        "string2 = \"Skills\"\n",
        "result = concatenate_strings(string1, string2)\n",
        "print(result)"
      ],
      "metadata": {
        "colab": {
          "base_uri": "https://localhost:8080/"
        },
        "id": "cMp9Xe0-Ypsb",
        "outputId": "29bae030-7f79-473c-9ac1-79774751366e"
      },
      "execution_count": 33,
      "outputs": [
        {
          "output_type": "stream",
          "name": "stdout",
          "text": [
            "PWSkills\n"
          ]
        }
      ]
    },
    {
      "cell_type": "markdown",
      "source": [
        "#Q 11. Write a code to remove all occurrences of a specific element from a list."
      ],
      "metadata": {
        "id": "Yb8f7mHAZGcu"
      }
    },
    {
      "cell_type": "code",
      "source": [
        "def remove_occurrences(lst, element):\n",
        "    return [item for item in lst if item != element]\n",
        "# For Example\n",
        "my_list = [1, 2, 3, 4, 3, 5]\n",
        "element_to_remove = 3\n",
        "result = remove_occurrences(my_list, element_to_remove)\n",
        "print(result)\n"
      ],
      "metadata": {
        "colab": {
          "base_uri": "https://localhost:8080/"
        },
        "id": "gVcE0eMEbXB4",
        "outputId": "23b49355-5cdd-46d0-fc58-aa4645602a96"
      },
      "execution_count": 34,
      "outputs": [
        {
          "output_type": "stream",
          "name": "stdout",
          "text": [
            "[1, 2, 4, 5]\n"
          ]
        }
      ]
    },
    {
      "cell_type": "markdown",
      "source": [
        "#Q 12. Implement a code to find the second largest number in a given list of integers."
      ],
      "metadata": {
        "id": "yIbOYiy_bvrp"
      }
    },
    {
      "cell_type": "code",
      "source": [
        "def second_largest(numbers):\n",
        "    unique_numbers = list(set(numbers))  # Remove duplicates\n",
        "    unique_numbers.sort()  # Sort the list\n",
        "    return unique_numbers[-2] if len(unique_numbers) >= 2 else None\n",
        "# For Example\n",
        "my_list = [5, 3, 9, 1, 7, 9, 11]\n",
        "result = second_largest(my_list)\n",
        "print(result)"
      ],
      "metadata": {
        "colab": {
          "base_uri": "https://localhost:8080/"
        },
        "id": "NrRQ7J3pb6Q7",
        "outputId": "91991f09-11f7-4a0e-98e1-d5e67cca29a7"
      },
      "execution_count": 36,
      "outputs": [
        {
          "output_type": "stream",
          "name": "stdout",
          "text": [
            "9\n"
          ]
        }
      ]
    },
    {
      "cell_type": "markdown",
      "source": [
        "#Q 13. Create a code to count the occurrences of each element in a list and return a dictionary with elements as keys and their counts as values."
      ],
      "metadata": {
        "id": "00nSWH7bcWKn"
      }
    },
    {
      "cell_type": "code",
      "source": [
        "def count_occurrences(lst):\n",
        "    counts = {}\n",
        "    for item in lst:\n",
        "        counts[item] = counts.get(item, 0) + 1\n",
        "    return counts\n",
        "# For Example\n",
        "my_list = [1, 2, 2, 3, 1, 4, 4, 4]\n",
        "result = count_occurrences(my_list)\n",
        "print(result)"
      ],
      "metadata": {
        "colab": {
          "base_uri": "https://localhost:8080/"
        },
        "id": "1FeUeZROcj2u",
        "outputId": "1201de15-b775-401e-da83-ec59abfa1f24"
      },
      "execution_count": 39,
      "outputs": [
        {
          "output_type": "stream",
          "name": "stdout",
          "text": [
            "{1: 2, 2: 2, 3: 1, 4: 3}\n"
          ]
        }
      ]
    },
    {
      "cell_type": "markdown",
      "source": [
        "#Q 14. Write a code to reverse a list in-place without using any built-in reverse functions."
      ],
      "metadata": {
        "id": "n8wnxLECc5vb"
      }
    },
    {
      "cell_type": "code",
      "source": [
        "def reverse_list(lst):\n",
        "    left, right = 0, len(lst) - 1\n",
        "    while left < right:\n",
        "        lst[left], lst[right] = lst[right], lst[left]  # Swap elements\n",
        "        left += 1\n",
        "        right -= 1\n",
        "\n",
        "# For Example\n",
        "my_list = [1, 2, 3, 4]\n",
        "reverse_list(my_list)\n",
        "print(my_list)\n"
      ],
      "metadata": {
        "colab": {
          "base_uri": "https://localhost:8080/"
        },
        "id": "GWujRJKudBcK",
        "outputId": "20ed659c-85ed-4886-9a27-d5f487854880"
      },
      "execution_count": 41,
      "outputs": [
        {
          "output_type": "stream",
          "name": "stdout",
          "text": [
            "[4, 3, 2, 1]\n"
          ]
        }
      ]
    },
    {
      "cell_type": "markdown",
      "source": [
        "#Q 15. Implement a code to find and remove duplicates from a list while preserving the original order of elements."
      ],
      "metadata": {
        "id": "8OCVgdaldaCa"
      }
    },
    {
      "cell_type": "code",
      "source": [
        "def remove_duplicates(lst):\n",
        "    seen = set()\n",
        "    result = []\n",
        "    for item in lst:\n",
        "        if item not in seen:\n",
        "            seen.add(item)\n",
        "            result.append(item)\n",
        "    return result\n",
        "# For Example\n",
        "my_list = [1, 2, 3, 3, 2, 4, 1, 5, 5]\n",
        "result = remove_duplicates(my_list)\n",
        "print(result)"
      ],
      "metadata": {
        "colab": {
          "base_uri": "https://localhost:8080/"
        },
        "id": "PTNPaDEQddkk",
        "outputId": "c10e0169-421f-46db-a124-6dfa2e2dbedd"
      },
      "execution_count": 43,
      "outputs": [
        {
          "output_type": "stream",
          "name": "stdout",
          "text": [
            "[1, 2, 3, 4, 5]\n"
          ]
        }
      ]
    },
    {
      "cell_type": "markdown",
      "source": [
        "#Q 16. Create a code to check if a given list is sorted (either in ascending or descending order) or not."
      ],
      "metadata": {
        "id": "nc4aRXXTefwk"
      }
    },
    {
      "cell_type": "code",
      "source": [
        "def is_sorted(lst):\n",
        "    return lst == sorted(lst) or lst == sorted(lst, reverse=True)\n",
        "\n",
        "# For Example\n",
        "lst = [1, 2, 3, 4]\n",
        "print(is_sorted(lst))\n",
        "\n",
        "lst = [4, 3, 2, 1]\n",
        "print(is_sorted(lst))\n",
        "\n",
        "lst = [1, 3, 2, 4]\n",
        "print(is_sorted(lst))"
      ],
      "metadata": {
        "colab": {
          "base_uri": "https://localhost:8080/"
        },
        "id": "xb0zD52kekLL",
        "outputId": "7dce3209-0dea-4657-cc0d-d2a03b33a906"
      },
      "execution_count": 45,
      "outputs": [
        {
          "output_type": "stream",
          "name": "stdout",
          "text": [
            "True\n",
            "True\n",
            "False\n"
          ]
        }
      ]
    },
    {
      "cell_type": "markdown",
      "source": [
        "#Q 17. Write a code to merge two sorted lists into a single sorted list."
      ],
      "metadata": {
        "id": "5f27ZooGetTd"
      }
    },
    {
      "cell_type": "code",
      "source": [
        "def merge_sorted_lists(list1, list2):\n",
        "    merged_list = []\n",
        "    i, j = 0, 0\n",
        "\n",
        "    # Traversing both lists and merge\n",
        "    while i < len(list1) and j < len(list2):\n",
        "        if list1[i] < list2[j]:\n",
        "            merged_list.append(list1[i])\n",
        "            i += 1\n",
        "        else:\n",
        "            merged_list.append(list2[j])\n",
        "            j += 1\n",
        "\n",
        "    # Appending remaining elements from list1 or list2\n",
        "    merged_list.extend(list1[i:])\n",
        "    merged_list.extend(list2[j:])\n",
        "\n",
        "    return merged_list\n",
        "\n",
        "# For Example\n",
        "list1 = [1, 3, 5, 7, 9]\n",
        "list2 = [2, 4, 6, 8, 10]\n",
        "result = merge_sorted_lists(list1, list2)\n",
        "print(result)"
      ],
      "metadata": {
        "colab": {
          "base_uri": "https://localhost:8080/"
        },
        "id": "rvdkI5LafzHd",
        "outputId": "3d9c9958-7bb6-4883-f140-6ffb40a581d6"
      },
      "execution_count": 48,
      "outputs": [
        {
          "output_type": "stream",
          "name": "stdout",
          "text": [
            "[1, 2, 3, 4, 5, 6, 7, 8, 9, 10]\n"
          ]
        }
      ]
    },
    {
      "cell_type": "markdown",
      "source": [
        "# Q 18. Implement a code to find the intersection of two given lists."
      ],
      "metadata": {
        "id": "JitfjBhBgG6m"
      }
    },
    {
      "cell_type": "code",
      "source": [
        "def find_intersection(list1, list2):\n",
        "    # Use set intersection to find common elements\n",
        "    intersection = list(set(list1) & set(list2))\n",
        "    return intersection\n",
        "# For Example\n",
        "list1 = [1, 2, 3, 4, 5, 6]\n",
        "list2 = [5, 6, 7, 8, 9]\n",
        "\n",
        "result = find_intersection(list1, list2)\n",
        "print(\"Intersection:\", result)"
      ],
      "metadata": {
        "colab": {
          "base_uri": "https://localhost:8080/"
        },
        "id": "puwQlLCCgPmT",
        "outputId": "434d6fb7-a224-4ebc-9866-737e725c8b7d"
      },
      "execution_count": 50,
      "outputs": [
        {
          "output_type": "stream",
          "name": "stdout",
          "text": [
            "Intersection: [5, 6]\n"
          ]
        }
      ]
    },
    {
      "cell_type": "markdown",
      "source": [
        "# Q 19. Create a code to find the union of two lists without duplicates."
      ],
      "metadata": {
        "id": "fHo9dPsbgqiC"
      }
    },
    {
      "cell_type": "code",
      "source": [
        "def union_lists(list1, list2):\n",
        "    return list(set(list1) | set(list2))\n",
        "\n",
        "# For Example\n",
        "list1 = [1, 2, 3, 4, 5]\n",
        "list2 = [4, 5, 6, 7, 8]\n",
        "\n",
        "result = union_lists(list1, list2)\n",
        "print(result)\n"
      ],
      "metadata": {
        "colab": {
          "base_uri": "https://localhost:8080/"
        },
        "id": "rNyEnN83g0-0",
        "outputId": "512641cf-c869-4712-d44e-2fc8c84af3be"
      },
      "execution_count": 52,
      "outputs": [
        {
          "output_type": "stream",
          "name": "stdout",
          "text": [
            "[1, 2, 3, 4, 5, 6, 7, 8]\n"
          ]
        }
      ]
    },
    {
      "cell_type": "markdown",
      "source": [
        "#Q 20. Write a code to shuffle a given list randomly without using any built-in shuffle functions."
      ],
      "metadata": {
        "id": "97Ag-dCqhGrK"
      }
    },
    {
      "cell_type": "code",
      "source": [
        "import random\n",
        "\n",
        "def shuffle_list(lst):\n",
        "    # Get the length of the list\n",
        "    n = len(lst)\n",
        "\n",
        "    # Iterate over the list in reverse order\n",
        "    for i in range(n - 1, 0, -1):\n",
        "        # Generate a random index from 0 to i\n",
        "        j = random.randint(0, i)\n",
        "\n",
        "        # Swap the elements at index i and j\n",
        "        lst[i], lst[j] = lst[j], lst[i]\n",
        "\n",
        "# Example usage\n",
        "my_list = [1, 2, 3, 4, 5]\n",
        "shuffle_list(my_list)\n",
        "print(my_list)\n"
      ],
      "metadata": {
        "colab": {
          "base_uri": "https://localhost:8080/"
        },
        "id": "EjZgREbbhMwd",
        "outputId": "d71f3ec9-95cb-489f-c4df-07ff1cbcb86c"
      },
      "execution_count": 57,
      "outputs": [
        {
          "output_type": "stream",
          "name": "stdout",
          "text": [
            "[5, 4, 3, 2, 1]\n"
          ]
        }
      ]
    },
    {
      "cell_type": "markdown",
      "source": [
        "# Q 21. Write a code that takes two tuples as input and returns a new tuple containing elements that are common to both input tuples."
      ],
      "metadata": {
        "id": "ieFAzoMzh5Ar"
      }
    },
    {
      "cell_type": "code",
      "source": [
        "def common_elements(tuple1, tuple2):\n",
        "    # Converting tuples to sets to find common elements\n",
        "    common_set = set(tuple1) & set(tuple2)\n",
        "    # Returning a new tuple with the common elements\n",
        "    return tuple(common_set)\n",
        "\n",
        "# For Example\n",
        "tuple1 = (1, 2, 3, 4, 5)\n",
        "tuple2 = (4, 5, 6, 7, 8)\n",
        "result = common_elements(tuple1, tuple2)\n",
        "print(result)"
      ],
      "metadata": {
        "colab": {
          "base_uri": "https://localhost:8080/"
        },
        "id": "K_EmBORxjvbL",
        "outputId": "24c2f5d3-72c5-49ce-925a-ee18c7a3657d"
      },
      "execution_count": 61,
      "outputs": [
        {
          "output_type": "stream",
          "name": "stdout",
          "text": [
            "(4, 5)\n"
          ]
        }
      ]
    },
    {
      "cell_type": "markdown",
      "source": [
        "#Q 22. Create a code that prompts the user to enter two sets of integers separated by commas. Then, print the Intersection of these two sets."
      ],
      "metadata": {
        "id": "itknESyikf6q"
      }
    },
    {
      "cell_type": "code",
      "source": [
        "\n",
        "def get_intersection():\n",
        "    # Prompt user for two sets of integers\n",
        "    set1_input = input(\"Enter the first set of integers separated by commas: \")\n",
        "    set2_input = input(\"Enter the second set of integers separated by commas: \")\n",
        "\n",
        "    # Convert the input strings into sets of integers\n",
        "    set1 = set(map(int, set1_input.split(',')))\n",
        "    set2 = set(map(int, set2_input.split(',')))\n",
        "\n",
        "    # Calculate the intersection\n",
        "    intersection = set1.intersection(set2)\n",
        "\n",
        "    # Print the intersection in simplest form\n",
        "    print(\"The intersection of the two sets is:\", intersection)\n",
        "\n",
        "# Call the function\n",
        "get_intersection()"
      ],
      "metadata": {
        "colab": {
          "base_uri": "https://localhost:8080/"
        },
        "id": "JUYuLSRgkisC",
        "outputId": "4d1bc721-2b4b-4ec9-9a19-5d6d36ac570a"
      },
      "execution_count": 65,
      "outputs": [
        {
          "output_type": "stream",
          "name": "stdout",
          "text": [
            "Enter the first set of integers separated by commas: 1, 2, 3, 4\n",
            "Enter the second set of integers separated by commas: 3, 4, 5, 6\n",
            "The intersection of the two sets is: {3, 4}\n"
          ]
        }
      ]
    },
    {
      "cell_type": "markdown",
      "source": [
        "#Q 23. Write a code to concatenate two tuples. The function should take two tuples as input and return a new tuple containing elements from both input tuples."
      ],
      "metadata": {
        "id": "TDbsnEYqlWgo"
      }
    },
    {
      "cell_type": "code",
      "source": [
        "def concatenate_tuples(tuple1, tuple2):\n",
        "    # Concatenate the two tuples\n",
        "    result = tuple1 + tuple2\n",
        "    return result\n",
        "# For Example\n",
        "tuple_a = (1, 2, 3, 4)\n",
        "tuple_b = (5, 6, 7, 8)\n",
        "concatenated_tuple = concatenate_tuples(tuple_a, tuple_b)\n",
        "print(concatenated_tuple)"
      ],
      "metadata": {
        "colab": {
          "base_uri": "https://localhost:8080/"
        },
        "id": "lM6i5hRbldL0",
        "outputId": "d28bdeb3-9d08-437b-830c-86e8e3957aa6"
      },
      "execution_count": 67,
      "outputs": [
        {
          "output_type": "stream",
          "name": "stdout",
          "text": [
            "(1, 2, 3, 4, 5, 6, 7, 8)\n"
          ]
        }
      ]
    },
    {
      "cell_type": "markdown",
      "source": [
        "#Q 24. Develop a code that prompts the user to input two sets of strings. Then, print the elements that are present in the first set but not in the second set."
      ],
      "metadata": {
        "id": "gm3jbIWyluaZ"
      }
    },
    {
      "cell_type": "code",
      "source": [
        "# Function to get a set of strings from user input\n",
        "def get_string_set(prompt):\n",
        "    user_input = input(prompt)\n",
        "    # Split the input into a list and convert to a set\n",
        "    return set(user_input.split())\n",
        "\n",
        "# Get two sets from the user\n",
        "set1 = get_string_set(\"Enter the first set of strings (separated by spaces): \")\n",
        "set2 = get_string_set(\"Enter the second set of strings (separated by spaces): \")\n",
        "\n",
        "# Find elements in set1 that are not in set2\n",
        "difference = set1 - set2\n",
        "\n",
        "# Print the result\n",
        "print(\"Elements in the first set but not in the second set:\", difference)"
      ],
      "metadata": {
        "colab": {
          "base_uri": "https://localhost:8080/"
        },
        "id": "gDF_ZQkxly0P",
        "outputId": "5b53f440-1afb-4c19-da0a-258fe2f2b09b"
      },
      "execution_count": 69,
      "outputs": [
        {
          "output_type": "stream",
          "name": "stdout",
          "text": [
            "Enter the first set of strings (separated by spaces): \"Ajay\" \"PWSKILLS\"\n",
            "Enter the second set of strings (separated by spaces): \"PWSKILLS\" \"Sharmistha\" \"Dey\"\n",
            "Elements in the first set but not in the second set: {'\"Ajay\"'}\n"
          ]
        }
      ]
    },
    {
      "cell_type": "markdown",
      "source": [
        "#Q 25. Create a code that takes a tuple and two integers as input. The function should return a new tuple containing elements from the original tuple within the specified range of indices."
      ],
      "metadata": {
        "id": "J8DFGH_imySh"
      }
    },
    {
      "cell_type": "code",
      "source": [
        "def slice_tuple(original_tuple, start_index, end_index):\n",
        "    \"\"\"\n",
        "    Returns a new tuple containing elements from the original tuple\n",
        "    within the specified range of indices.\n",
        "\n",
        "    :param original_tuple: The tuple to slice.\n",
        "    :param start_index: The starting index (inclusive).\n",
        "    :param end_index: The ending index (exclusive).\n",
        "    :return: A new tuple containing the sliced elements.\n",
        "    \"\"\"\n",
        "    # Slice the original tuple and return a new tuple\n",
        "    return original_tuple[start_index:end_index]\n",
        "\n",
        "# For Example\n",
        "my_tuple = (10, 20, 30, 40, 50)\n",
        "start = 1\n",
        "end = 4\n",
        "result = slice_tuple(my_tuple, start, end)\n",
        "print(result)"
      ],
      "metadata": {
        "colab": {
          "base_uri": "https://localhost:8080/"
        },
        "id": "SwuGWK7Gm1iY",
        "outputId": "d8af2b18-35c5-47b4-aa68-ffc780410494"
      },
      "execution_count": 70,
      "outputs": [
        {
          "output_type": "stream",
          "name": "stdout",
          "text": [
            "(20, 30, 40)\n"
          ]
        }
      ]
    },
    {
      "cell_type": "markdown",
      "source": [
        "#Q 26. Write a code that prompts the user to input two sets of characters. Then, print the union of these two sets."
      ],
      "metadata": {
        "id": "DNG24WXGnF-H"
      }
    },
    {
      "cell_type": "code",
      "source": [
        "# Prompt user for input\n",
        "set1_input = input(\"Enter the first set of characters (separated by spaces): \")\n",
        "set2_input = input(\"Enter the second set of characters (separated by spaces): \")\n",
        "\n",
        "# Convert input strings to sets\n",
        "set1 = set(set1_input.split())\n",
        "set2 = set(set2_input.split())\n",
        "\n",
        "# Calculate the union of the two sets\n",
        "union_set = set1.union(set2)\n",
        "\n",
        "# Print the result\n",
        "print(\"Union of the two sets:\", union_set)"
      ],
      "metadata": {
        "colab": {
          "base_uri": "https://localhost:8080/"
        },
        "id": "7zPrLyo4nJ6V",
        "outputId": "76b14719-02fd-40d2-9752-43ac2bbc7bda"
      },
      "execution_count": 80,
      "outputs": [
        {
          "output_type": "stream",
          "name": "stdout",
          "text": [
            "Enter the first set of characters (separated by spaces): a b c \n",
            "Enter the second set of characters (separated by spaces): b c e d\n",
            "Union of the two sets: {'d', 'b', 'e', 'c', 'a'}\n"
          ]
        }
      ]
    },
    {
      "cell_type": "markdown",
      "source": [
        "#Q 27. Develop a code that takes a tuple of integers as input. The function should return the maximum and minimum values from the tuple using tuple unpacking."
      ],
      "metadata": {
        "id": "KL4Ee97VwKKE"
      }
    },
    {
      "cell_type": "code",
      "source": [
        "def max_min_from_tuple(int_tuple):\n",
        "    # Find maximum and minimum values\n",
        "    max_value = max(int_tuple)\n",
        "    min_value = min(int_tuple)\n",
        "\n",
        "    # Return the results as a tuple\n",
        "    return max_value, min_value\n",
        "\n",
        "# For Example\n",
        "input_tuple = (5, 3, 9, 1, 4, 11, 0)\n",
        "max_value, min_value = max_min_from_tuple(input_tuple)\n",
        "\n",
        "print(\"Maximum value:\", max_value)\n",
        "print(\"Minimum value:\", min_value)"
      ],
      "metadata": {
        "colab": {
          "base_uri": "https://localhost:8080/"
        },
        "id": "0cncPEEWwOd2",
        "outputId": "317fe260-2aec-4d98-8398-5e82bfe4e8e0"
      },
      "execution_count": 75,
      "outputs": [
        {
          "output_type": "stream",
          "name": "stdout",
          "text": [
            "Maximum value: 11\n",
            "Minimum value: 0\n"
          ]
        }
      ]
    },
    {
      "cell_type": "markdown",
      "source": [
        "#Q 28. Create a code that defines two sets of integers. Then, print the union, intersection, and difference of these two sets."
      ],
      "metadata": {
        "id": "cxxKEdR1whzA"
      }
    },
    {
      "cell_type": "code",
      "source": [
        "# Define two sets of integers\n",
        "set1 = {1, 2, 3, 4, 5, 6}\n",
        "set2 = {5, 6, 7, 8, 9, 10}\n",
        "\n",
        "# Calculate union, intersection, and difference\n",
        "union_set = set1 | set2\n",
        "intersection_set = set1 & set2\n",
        "difference_set1 = set1 - set2\n",
        "difference_set2 = set2 - set1\n",
        "\n",
        "# Print the results\n",
        "print(\"Set 1:\", set1)\n",
        "print(\"Set 2:\", set2)\n",
        "print(\"Union of the two sets:\", union_set)\n",
        "print(\"Intersection of the two sets:\", intersection_set)\n",
        "print(\"Difference (Set 1 - Set 2):\", difference_set1)\n",
        "print(\"Difference (Set 2 - Set 1):\", difference_set2)"
      ],
      "metadata": {
        "colab": {
          "base_uri": "https://localhost:8080/"
        },
        "id": "sZtT87zLwnay",
        "outputId": "7f91811a-0cb1-456c-f141-617adb6f015c"
      },
      "execution_count": 82,
      "outputs": [
        {
          "output_type": "stream",
          "name": "stdout",
          "text": [
            "Set 1: {1, 2, 3, 4, 5, 6}\n",
            "Set 2: {5, 6, 7, 8, 9, 10}\n",
            "Union of the two sets: {1, 2, 3, 4, 5, 6, 7, 8, 9, 10}\n",
            "Intersection of the two sets: {5, 6}\n",
            "Difference (Set 1 - Set 2): {1, 2, 3, 4}\n",
            "Difference (Set 2 - Set 1): {8, 9, 10, 7}\n"
          ]
        }
      ]
    },
    {
      "cell_type": "markdown",
      "source": [
        "#Q 29. Write a code that takes a tuple and an element as input. The function should return the count of occurrences of the given element in the tuple."
      ],
      "metadata": {
        "id": "R8LOduJ1xl4F"
      }
    },
    {
      "cell_type": "code",
      "source": [
        "def count_occurrences(tup, element):\n",
        "    return tup.count(element)\n",
        "\n",
        "# For Example\n",
        "input_tuple = (1, 2, 3, 3, 4, 3, 5)\n",
        "element_to_count = 3\n",
        "count = count_occurrences(input_tuple, element_to_count)\n",
        "\n",
        "print(f\"The element {element_to_count} occurs {count} time(s) in the tuple.\")"
      ],
      "metadata": {
        "colab": {
          "base_uri": "https://localhost:8080/"
        },
        "id": "DwktHXwFxuRg",
        "outputId": "7d1041e1-aa05-489c-b26b-cde4e62ea29b"
      },
      "execution_count": 85,
      "outputs": [
        {
          "output_type": "stream",
          "name": "stdout",
          "text": [
            "The element 3 occurs 3 time(s) in the tuple.\n"
          ]
        }
      ]
    },
    {
      "cell_type": "markdown",
      "source": [
        "#Q 30. Develop a code that prompts the user to input two sets of strings. Then, print the symmetric difference of these two sets."
      ],
      "metadata": {
        "id": "1NOuURBjx7k8"
      }
    },
    {
      "cell_type": "code",
      "source": [
        "# Prompt user for input\n",
        "set1_input = input(\"Enter the first set of strings (separated by spaces): \")\n",
        "set2_input = input(\"Enter the second set of strings (separated by spaces): \")\n",
        "\n",
        "# Convert input strings to sets\n",
        "set1 = set(set1_input.split())\n",
        "set2 = set(set2_input.split())\n",
        "\n",
        "# Calculate the symmetric difference of the two sets\n",
        "symmetric_difference = set1 ^ set2  # Alternatively, one can use set1.symmetric_difference(set2)\n",
        "\n",
        "# Print the result\n",
        "print(\"Symmetric difference of the two sets:\", symmetric_difference)"
      ],
      "metadata": {
        "colab": {
          "base_uri": "https://localhost:8080/"
        },
        "id": "6V-l_owayCIE",
        "outputId": "368320d3-0c3f-45b0-fa17-4ed5c9a35e7e"
      },
      "execution_count": 87,
      "outputs": [
        {
          "output_type": "stream",
          "name": "stdout",
          "text": [
            "Enter the first set of strings (separated by spaces): apple banana cherry\n",
            "Enter the second set of strings (separated by spaces): banana cherry date elderberry\n",
            "Symmetric difference of the two sets: {'apple', 'date', 'elderberry'}\n"
          ]
        }
      ]
    },
    {
      "cell_type": "markdown",
      "source": [],
      "metadata": {
        "id": "n78ojQPLzAX-"
      }
    },
    {
      "cell_type": "markdown",
      "source": [
        "#Q 31. Write a code that takes a list of words as input and returns a dictionary where the keys are unique words and the values are the frequencies of those words in the input list."
      ],
      "metadata": {
        "id": "p9QlAk-91ELx"
      }
    },
    {
      "cell_type": "code",
      "source": [
        "def word_frequency(words):\n",
        "    frequency_dict = {}\n",
        "    for word in words:\n",
        "        if word in frequency_dict:\n",
        "            frequency_dict[word] += 1\n",
        "        else:\n",
        "            frequency_dict[word] = 1\n",
        "    return frequency_dict\n",
        "\n",
        "# For Example\n",
        "word_list = [\"date\", \"banana\", \"date\", \"pear\", \"banana\", \"date\"]\n",
        "frequency = word_frequency(word_list)\n",
        "print(frequency)"
      ],
      "metadata": {
        "colab": {
          "base_uri": "https://localhost:8080/"
        },
        "id": "gz6nllGB1G-B",
        "outputId": "34e0cb9c-1d4f-4e9c-945f-167dfbb1e004"
      },
      "execution_count": 90,
      "outputs": [
        {
          "output_type": "stream",
          "name": "stdout",
          "text": [
            "{'date': 3, 'banana': 2, 'pear': 1}\n"
          ]
        }
      ]
    },
    {
      "cell_type": "markdown",
      "source": [
        "#Q 32. Write a code that takes two dictionaries as input and merges them into a single dictionary. if there are common keys, the values should be added together."
      ],
      "metadata": {
        "id": "dBdFksYR1b5u"
      }
    },
    {
      "cell_type": "code",
      "source": [
        "def merge_dictionaries(dict1, dict2):\n",
        "    merged_dict = dict1.copy()  # Create a copy of the first dictionary\n",
        "\n",
        "    for key, value in dict2.items():\n",
        "        if key in merged_dict:\n",
        "            merged_dict[key] += value  # Add values for common keys\n",
        "        else:\n",
        "            merged_dict[key] = value  # Add new key-value pairs\n",
        "\n",
        "    return merged_dict\n",
        "\n",
        "# For Example\n",
        "dict1 = {'a': 10, 'b': 20, 'c': 30}\n",
        "dict2 = {'b': 15, 'c':10, 'd': 25}\n",
        "\n",
        "merged = merge_dictionaries(dict1, dict2)\n",
        "print(merged)"
      ],
      "metadata": {
        "colab": {
          "base_uri": "https://localhost:8080/"
        },
        "id": "PIfT8TxK1hCo",
        "outputId": "1e8d86d3-0ab6-46ca-f71e-23f659daa5f3"
      },
      "execution_count": 92,
      "outputs": [
        {
          "output_type": "stream",
          "name": "stdout",
          "text": [
            "{'a': 10, 'b': 35, 'c': 40, 'd': 25}\n"
          ]
        }
      ]
    },
    {
      "cell_type": "markdown",
      "source": [
        "# Q 33. Write a code to access a value in a nested dictionary. The function should take the dictionary and a list of keys as input, and return the corresponding value. If any of the keys do not exist in the dictionary, the function should return None."
      ],
      "metadata": {
        "id": "a-W-WWOS1-yu"
      }
    },
    {
      "cell_type": "code",
      "source": [
        "def get_nested_value(nested_dict, keys):\n",
        "    \"\"\"Access a value in a nested dictionary using a list of keys.\n",
        "\n",
        "    Args:\n",
        "        nested_dict (dict): The nested dictionary to search.\n",
        "        keys (list): A list of keys to access the desired value.\n",
        "\n",
        "    Returns:\n",
        "        The value corresponding to the keys, or None if any key is not found.\n",
        "    \"\"\"\n",
        "    current_value = nested_dict\n",
        "    for key in keys:\n",
        "        if isinstance(current_value, dict) and key in current_value:\n",
        "            current_value = current_value[key]\n",
        "        else:\n",
        "            return None\n",
        "    return current_value\n",
        "\n",
        "# Example nested dictionary\n",
        "nested_dictionary = {\n",
        "    'a': {\n",
        "        'b': {\n",
        "            'c': 50\n",
        "        }\n",
        "    },\n",
        "    'x': {\n",
        "        'y': {\n",
        "            'z': 100\n",
        "        }\n",
        "    }\n",
        "}\n",
        "\n",
        "# For Example\n",
        "keys_to_access = ['a', 'b', 'c']\n",
        "result = get_nested_value(nested_dictionary, keys_to_access)\n",
        "print(result)\n",
        "\n",
        "# Accessing a non-existent key\n",
        "keys_to_access_non_existent = ['a', 'b', 'd']\n",
        "result_non_existent = get_nested_value(nested_dictionary, keys_to_access_non_existent)\n",
        "print(result_non_existent)\n"
      ],
      "metadata": {
        "colab": {
          "base_uri": "https://localhost:8080/"
        },
        "id": "xaB5j9c82fBP",
        "outputId": "712ade0d-bd5f-4d09-f35c-67d423a722e2"
      },
      "execution_count": 97,
      "outputs": [
        {
          "output_type": "stream",
          "name": "stdout",
          "text": [
            "50\n",
            "None\n"
          ]
        }
      ]
    },
    {
      "cell_type": "markdown",
      "source": [
        "# Q 34. Write a code that takes a dictionary as input and returns a sorted version of it based on the values. You can choose whether to sort in ascending or descending order."
      ],
      "metadata": {
        "id": "2O3AoAJl25-m"
      }
    },
    {
      "cell_type": "code",
      "source": [
        "def sort_dict_by_values(input_dict, descending=False):\n",
        "    # Sort the dictionary by values\n",
        "    sorted_dict = dict(sorted(input_dict.items(), key=lambda item: item[1], reverse=descending))\n",
        "    return sorted_dict\n",
        "\n",
        "# For Example\n",
        "example_dict = {\n",
        "    'pear': 5,\n",
        "    'watermelon': 7,\n",
        "    'grape': 10,\n",
        "    'apple': 5\n",
        "}\n",
        "\n",
        "# Sort in ascending order\n",
        "sorted_ascending = sort_dict_by_values(example_dict)\n",
        "print(\"Sorted in Ascending Order:\", sorted_ascending)\n",
        "\n",
        "# Sort in descending order\n",
        "sorted_descending = sort_dict_by_values(example_dict, descending=True)\n",
        "print(\"Sorted in Descending Order:\", sorted_descending)"
      ],
      "metadata": {
        "colab": {
          "base_uri": "https://localhost:8080/"
        },
        "id": "YJ8c6oSI29f4",
        "outputId": "95fb56e1-df97-4877-8273-256dffdd5d2a"
      },
      "execution_count": 101,
      "outputs": [
        {
          "output_type": "stream",
          "name": "stdout",
          "text": [
            "Sorted in Ascending Order: {'pear': 5, 'apple': 5, 'watermelon': 7, 'grape': 10}\n",
            "Sorted in Descending Order: {'grape': 10, 'watermelon': 7, 'pear': 5, 'apple': 5}\n"
          ]
        }
      ]
    },
    {
      "cell_type": "markdown",
      "source": [
        "#Q 35. Write a code that inverts a dictionary, swapping keys and values. Ensure that the inverted dictionary correctly handles cases where multiple keys have the same value by storing the keys as a list in the inverted dictionary."
      ],
      "metadata": {
        "id": "XZBDX4cy3Cii"
      }
    },
    {
      "cell_type": "code",
      "source": [
        "def invert_dict(original_dict):\n",
        "    inverted_dict = {}\n",
        "\n",
        "    for key, value in original_dict.items():\n",
        "        if value not in inverted_dict:\n",
        "            inverted_dict[value] = [key]  # Start a new list for this value\n",
        "        else:\n",
        "            inverted_dict[value].append(key)  # Append to the existing list\n",
        "\n",
        "    return inverted_dict\n",
        "\n",
        "# For Example\n",
        "original_dict = {\n",
        "    'a': 1,\n",
        "    'b': 2,\n",
        "    'c': 2,\n",
        "    'd': 3\n",
        "}\n",
        "\n",
        "inverted_dict = invert_dict(original_dict)\n",
        "print(\"Original Dictionary:\", original_dict)\n",
        "print(\"Inverted Dictionary:\", inverted_dict)"
      ],
      "metadata": {
        "colab": {
          "base_uri": "https://localhost:8080/"
        },
        "id": "gUNAk3Ps3JtB",
        "outputId": "c6979c79-cec6-4186-c8b4-aa27a8a79c4f"
      },
      "execution_count": 98,
      "outputs": [
        {
          "output_type": "stream",
          "name": "stdout",
          "text": [
            "Original Dictionary: {'a': 1, 'b': 2, 'c': 2, 'd': 3}\n",
            "Inverted Dictionary: {1: ['a'], 2: ['b', 'c'], 3: ['d']}\n"
          ]
        }
      ]
    }
  ]
}